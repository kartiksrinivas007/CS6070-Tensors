{
 "cells": [
  {
   "cell_type": "code",
   "execution_count": 63,
   "metadata": {},
   "outputs": [],
   "source": [
    "import numpy as np"
   ]
  },
  {
   "cell_type": "code",
   "execution_count": 64,
   "metadata": {},
   "outputs": [],
   "source": [
    "def convert_to_mat_index(tensor_shape,mode,index):\n",
    "    ret=np.zeros(2,dtype=int)\n",
    "    ret[0]=index[mode]\n",
    "    new_shape = tensor_shape[:mode] + tensor_shape[mode+1:]\n",
    "    new_indices=index[:mode]+ index[mode+1:]\n",
    "    for x in range(len(new_shape)):\n",
    "        mul=1\n",
    "        for y in range(x):\n",
    "            mul*=new_shape[y]\n",
    "        ret[1]+= mul*new_indices[x]\n",
    "    return tuple(ret)\n",
    "\n",
    "def convert_to_tensor_index(tensor_shape,mode,matrix_index):\n",
    "    N=len(tensor_shape)\n",
    "    \n",
    "    ret=np.zeros(N,dtype=int)\n",
    "    ret[mode]=matrix_index[0]\n",
    "    new_shape = tensor_shape[:mode] + tensor_shape[mode+1:]\n",
    "    indices=tuple(range(N))\n",
    "    indices=indices[:mode]+indices[mode+1:]\n",
    "    \n",
    "    tmp=matrix_index[1]\n",
    "    for x in range(N-1):\n",
    "        mul=1\n",
    "        for y in range(x):\n",
    "            mul*=new_shape[y]\n",
    "        ret[indices[x]]=(tmp%(mul*new_shape[x]))//mul\n",
    "    return tuple(ret)\n"
   ]
  },
  {
   "cell_type": "code",
   "execution_count": 72,
   "metadata": {},
   "outputs": [
    {
     "name": "stdout",
     "output_type": "stream",
     "text": [
      "PASSED convert to tensor for mode 0\n",
      "PASSED convert to matrix for mode 0\n",
      "PASSED convert to tensor for mode 1\n",
      "PASSED convert to matrix for mode 1\n",
      "PASSED convert to tensor for mode 2\n",
      "PASSED convert to matrix for mode 2\n",
      "PASSED convert to tensor for mode 3\n",
      "PASSED convert to matrix for mode 3\n"
     ]
    }
   ],
   "source": [
    "# X=np.arange(24).reshape(3,4,2)\n",
    "X=np.arange(5*6*7*8).reshape(5,6,7,8)\n",
    "# print(X)\n",
    "for mode in range(X.ndim):\n",
    "    X_n=np.reshape(np.moveaxis(X, mode, 0),(X.shape[mode], -1), order='F')\n",
    "    # print(X_n)\n",
    "    X_manual=np.zeros(shape=X_n.shape,dtype=int)\n",
    "    for index in np.ndindex(X.shape):\n",
    "        X_manual[convert_to_mat_index(X.shape,mode,index)]=X[index]\n",
    "\n",
    "    # print(X_manual)\n",
    "\n",
    "    X_new=np.zeros(shape=X.shape,dtype=int)\n",
    "    for x1 in range(X_n.shape[0]):\n",
    "        for x2 in range(X_n.shape[1]):\n",
    "            X_new[convert_to_tensor_index(X.shape,mode,(x1,x2))]=X_n[(x1,x2)]\n",
    "    # print(X_new)\n",
    "\n",
    "    if np.array_equal(X_new,X):\n",
    "        print(\"PASSED convert to tensor for mode {}\".format(mode))\n",
    "    else:\n",
    "        print(\"FAILED convert to tensor for mode {}\".format(mode))\n",
    "\n",
    "    if np.array_equal(X_n,X_manual):\n",
    "        print(\"PASSED convert to matrix for mode {}\".format(mode))\n",
    "    else:\n",
    "        print(\"FAILED convert to matrix for mode {}\".format(mode))\n"
   ]
  }
 ],
 "metadata": {
  "kernelspec": {
   "display_name": "Python 3",
   "language": "python",
   "name": "python3"
  },
  "language_info": {
   "codemirror_mode": {
    "name": "ipython",
    "version": 3
   },
   "file_extension": ".py",
   "mimetype": "text/x-python",
   "name": "python",
   "nbconvert_exporter": "python",
   "pygments_lexer": "ipython3",
   "version": "3.10.6"
  },
  "orig_nbformat": 4
 },
 "nbformat": 4,
 "nbformat_minor": 2
}
