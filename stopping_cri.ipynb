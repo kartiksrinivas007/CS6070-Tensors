{
 "cells": [
  {
   "cell_type": "code",
   "execution_count": 3,
   "metadata": {},
   "outputs": [],
   "source": [
    "import tensor\n",
    "import numpy as np\n",
    "from tensor.operation.generate import coil100_data, random_tensor"
   ]
  },
  {
   "cell_type": "code",
   "execution_count": 22,
   "metadata": {},
   "outputs": [
    {
     "name": "stdout",
     "output_type": "stream",
     "text": [
      "4\n",
      "[[[0.61724802 0.65393894 0.754655   0.63984463]\n",
      "  [1.07485578 1.01199022 1.01761965 0.93291581]\n",
      "  [1.58268054 1.72633482 1.85818028 1.78847835]\n",
      "  [1.07493818 1.1198841  1.14825938 1.25326737]]\n",
      "\n",
      " [[0.19825413 0.32352649 0.36747439 0.353249  ]\n",
      "  [0.38527488 0.54500479 0.61787421 0.67067902]\n",
      "  [0.80206957 1.16862655 1.32765201 1.40650938]\n",
      "  [0.74047299 1.00020476 1.06059615 1.27083152]]\n",
      "\n",
      " [[0.56593906 0.5789836  0.69723378 0.60666143]\n",
      "  [0.97922819 0.78884946 0.82581163 0.82118484]\n",
      "  [1.28186325 1.0939899  1.32401517 1.30920265]\n",
      "  [1.14743279 1.18433825 1.2524223  1.50792897]]\n",
      "\n",
      " [[0.47402823 0.48486277 0.5260201  0.46115692]\n",
      "  [0.84128286 0.77116283 0.78862791 0.73765819]\n",
      "  [1.24238666 1.33184068 1.44139474 1.40422392]\n",
      "  [0.78803863 0.76503951 0.82530033 0.89869828]]]\n",
      "\n",
      "\n",
      "64\n",
      "[1.01199022 0.5260201  1.0939899  1.32765201 0.82118484 1.33184068\n",
      " 0.78884946 1.30920265 0.80206957 0.73765819]\n",
      "[ 5 50 41 26 39 57 37 43 24 55]\n",
      "[1.01199022 0.5260201  1.0939899  1.32765201 0.82118484 1.33184068\n",
      " 0.78884946 1.30920265 0.80206957 0.73765819]\n"
     ]
    }
   ],
   "source": [
    "def stopping_criteria(original_tensor: np.ndarray, reconstructed_tensor: np.ndarray, P_hat: int, threshold=0.01) -> bool:\n",
    "    '''\n",
    "    This function is used to check if the tensor has converged.\n",
    "    It randomly chooses P possible indices of original_tensor and new_tensor and compares the elements at those indices.\n",
    "    '''\n",
    "    # Randomly choose P indices\n",
    "    indices = np.random.choice(original_tensor.size, P_hat, replace=False)\n",
    "    print(original_tensor.size)\n",
    "    # print elements at those indices\n",
    "    # print(original_tensor.flat[indices])\n",
    "    # print(indices)\n",
    "    # print(new_tensor.flat[indices])\n",
    "    \n",
    "    original_tensor_elements = original_tensor.flat[indices]\n",
    "    reconstructed_tensor_elements = reconstructed_tensor.flat[indices]\n",
    "    \n",
    "    # mean of squared difference\n",
    "    mean_squared_difference = np.mean((original_tensor_elements - reconstructed_tensor_elements)**2)\n",
    "    \n",
    "    approx_epsilon = mean_squared_difference * original_tensor.size\n",
    "    approx_epsilon = approx_epsilon**(1/2)\n",
    "\n",
    "    relative_residual = approx_epsilon / np.linalg.norm(original_tensor)\n",
    "    if relative_residual < threshold:\n",
    "        return True\n",
    "    \n",
    "    return False\n",
    "\n",
    "if __name__ == \"__main__\":\n",
    "    l, w, s = 4, 12, 2\n",
    "    for I in range(l, w, s):\n",
    "        print(I)\n",
    "        X  = random_tensor(3, (I,I,I), 7, 0.01)\n",
    "        print(X)\n",
    "        print(\"\\n\")\n",
    "        if stopping_criteria(X, X, 10):\n",
    "            break\n",
    "        "
   ]
  }
 ],
 "metadata": {
  "kernelspec": {
   "display_name": "Python 3",
   "language": "python",
   "name": "python3"
  },
  "language_info": {
   "codemirror_mode": {
    "name": "ipython",
    "version": 3
   },
   "file_extension": ".py",
   "mimetype": "text/x-python",
   "name": "python",
   "nbconvert_exporter": "python",
   "pygments_lexer": "ipython3",
   "version": "3.9.12"
  },
  "orig_nbformat": 4
 },
 "nbformat": 4,
 "nbformat_minor": 2
}
