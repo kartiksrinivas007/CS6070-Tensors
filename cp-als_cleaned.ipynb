{
 "cells": [
  {
   "cell_type": "code",
   "execution_count": 1,
   "metadata": {},
   "outputs": [],
   "source": [
    "import numpy as np\n",
    "import matplotlib.pyplot as plt\n",
    "from tensor.operation.kruskal import kruskal\n",
    "from tensor.operation.khatri_rao import khatri_rao\n",
    "from tensor.operation.matricize import matricize"
   ]
  },
  {
   "attachments": {},
   "cell_type": "markdown",
   "metadata": {},
   "source": [
    "## CP decomposition"
   ]
  },
  {
   "attachments": {},
   "cell_type": "markdown",
   "metadata": {},
   "source": [
    "Algorithm: CP decomposition ALS\n",
    "\n",
    "$\\text{Input:} \\quad \\text{Tensor } X \\in \\mathbb{R}^{J_1 \\times J_2 \\times \\cdots \\times J_N}, \\text{ rank } R$\n",
    "\n",
    "$\\text{Output:} \\quad \\text{Factor matrices } U_1, U_2, \\cdots, U_N \\\\\n",
    "$\n",
    "\n",
    "\\begin{align*}\n",
    "&\\text{Initialize } U_1, U_2, \\cdots, U_N \\text{ with random matrices} \\\\\n",
    "&\\text{while } \\text{not converged } \\text{do} \\\\\n",
    "& \\quad \\quad \\text{for } n = 1, 2, \\cdots, N \\text{ do} \\\\\n",
    "& \\quad \\quad \\quad \\text{Compute } \\mathbf{A}^{(n)^T} = \\left( \\mathbf{A}^{(N)} \\odot \\mathbf{A}^{(N-1)} \\odot \\cdots \\odot \\mathbf{A}^{(n+1)} \\odot \\mathbf{A}^{(n-1)} \\cdot \\mathbf{A}^{(1)} \\right )^{\\dag} X^T_{(n)} \\\\\n",
    "& \\quad \\quad \\text{end for} \\\\\n",
    "&\\text{end while} \\\\\n",
    "\\end{align*}"
   ]
  },
  {
   "cell_type": "code",
   "execution_count": 6,
   "metadata": {},
   "outputs": [],
   "source": [
    "def cpDecomposition(X: np.ndarray, rank: int, maxIter: int = 5, tol: float = 1e-6):\n",
    "    \"\"\"cpDecomposition performs CP decomposition of a tensor X using alternating least squares.\n",
    "\n",
    "    Args:\n",
    "        X (np.ndarray): Tensor to be decomposed.\n",
    "        rank (int): Rank of the decomposition.\n",
    "        maxIter (int, optional): Maximum number of iterations. Defaults to 1000.\n",
    "        tol (float, optional): Tolerance for the stopping criterion. Defaults to 1e-6.\n",
    "\n",
    "    Returns:\n",
    "        np.ndarray: Factor matrices of the decomposition.\n",
    "\n",
    "    \"\"\"\n",
    "    # Initialize factor matrices\n",
    "    U = [np.random.rand(X.shape[i], rank) for i in range(X.ndim)]\n",
    "\n",
    "    # Iterate until convergence\n",
    "    for itr in range(maxIter):\n",
    "\n",
    "        for i in range(X.ndim):\n",
    "\n",
    "            khatriRaoProd = np.ones((1, rank))\n",
    "            for j in range(X.ndim, 0, -1):\n",
    "                if j != (i + 1):\n",
    "                    khatriRaoProd = khatri_rao(khatriRaoProd, U[j - 1])\n",
    "\n",
    "            U[i] = matricize(X, i) @ np.linalg.pinv(khatriRaoProd).T\n",
    "        print(\"Iteration \", itr+1, \" completed. loss =\",\n",
    "              np.linalg.norm(X - kruskal(*U)))\n",
    "\n",
    "        # Check for convergence\n",
    "        if np.linalg.norm(X - kruskal(*U)) < tol:\n",
    "            break\n",
    "\n",
    "    return np.array(U)\n"
   ]
  },
  {
   "cell_type": "code",
   "execution_count": 7,
   "metadata": {},
   "outputs": [
    {
     "name": "stdout",
     "output_type": "stream",
     "text": [
      "Iteration  1  completed. loss = 0.24952368068224098\n",
      "Iteration  2  completed. loss = 0.00043596515395754134\n",
      "Iteration  3  completed. loss = 1.0781354814328967e-09\n"
     ]
    },
    {
     "name": "stderr",
     "output_type": "stream",
     "text": [
      "/home/ganesh/anaconda3/envs/CS3390/lib/python3.10/site-packages/numpy/core/fromnumeric.py:86: VisibleDeprecationWarning: Creating an ndarray from ragged nested sequences (which is a list-or-tuple of lists-or-tuples-or ndarrays with different lengths or shapes) is deprecated. If you meant to do this, you must specify 'dtype=object' when creating the ndarray.\n",
      "  return ufunc.reduce(obj, axis, dtype, out, **passkwargs)\n"
     ]
    }
   ],
   "source": [
    "X = np.array([[[1, -1], [0, 0]], [[0, 0], [1, 1]]])\n",
    "ans = cpDecomposition(X, 3, maxIter=20)"
   ]
  },
  {
   "cell_type": "code",
   "execution_count": 8,
   "metadata": {},
   "outputs": [
    {
     "name": "stdout",
     "output_type": "stream",
     "text": [
      "A = \n",
      " [[-7.22404010e-01 -9.30398957e-01  2.58363737e+00]\n",
      " [-1.45917348e-03  4.87359604e+00 -3.16038679e-01]]\n",
      "B = \n",
      " [[ 1.44090841  0.04683864  0.84775412]\n",
      " [-0.00428549  0.36126171  0.15269187]]\n",
      "C = \n",
      " [[0.056609   0.58154203 0.49503423]\n",
      " [1.94604955 0.58111904 0.4798464 ]]\n"
     ]
    }
   ],
   "source": [
    "print(\"A = \\n\",ans[0]) \n",
    "print(\"B = \\n\",ans[1])\n",
    "print(\"C = \\n\",ans[2])"
   ]
  },
  {
   "cell_type": "code",
   "execution_count": null,
   "metadata": {},
   "outputs": [],
   "source": []
  }
 ],
 "metadata": {
  "kernelspec": {
   "display_name": "CS3390",
   "language": "python",
   "name": "python3"
  },
  "language_info": {
   "codemirror_mode": {
    "name": "ipython",
    "version": 3
   },
   "file_extension": ".py",
   "mimetype": "text/x-python",
   "name": "python",
   "nbconvert_exporter": "python",
   "pygments_lexer": "ipython3",
   "version": "3.10.4"
  },
  "orig_nbformat": 4
 },
 "nbformat": 4,
 "nbformat_minor": 2
}
