{
 "cells": [
  {
   "cell_type": "code",
   "execution_count": 1,
   "metadata": {},
   "outputs": [],
   "source": [
    "import numpy as np\n",
    "import matplotlib.pyplot as plt\n",
    "from tensor.operation import *"
   ]
  },
  {
   "attachments": {},
   "cell_type": "markdown",
   "metadata": {},
   "source": [
    "Algorithm: CP RAND\n",
    "\n",
    "$\\text{Input:}$ $\\mathcal{X} \\in \\mathbb{R}^{I_1 \\times \\cdots \\times I_N}$, $\\mathbf{R}$, $\\mathbf{S}$\n",
    "\n",
    "$\\text{Output:}$ $\\boldsymbol{\\lambda}$, $\\{\\mathbf{A}^{(n)}\\}$\n",
    "\n",
    "$\n",
    "\\textbf{CPRAND} (\\mathcal{X}, \\mathbf{R}, \\mathbf{S}):\\\\\n",
    "\\quad \\text{Initialize factor matrices } \\mathbf{A}^{(2)}, \\dots, \\mathbf{A}^{(N)}\\\\\n",
    "\\quad \\textbf{repeat}:\\\\\n",
    "\\quad \\quad \\text{for } n = 1, \\dots, N \\text{ do}:\\\\\n",
    "\\quad \\quad \\quad \\text{Define sampling operator} \\mathbf{S} \\in \\mathbb{R}^{S \\times \\prod_{m \\neq n} I_m}\\\\\n",
    "\\quad \\quad \\quad \\mathbf{Z}_S \\gets \\text{SKR}(\\mathbf{S}, \\mathbf{A}^{(1)}, \\dots, \\mathbf{A}^{(n-1)}, \\mathbf{A}^{(n+1)}, \\dots, \\mathbf{A}^{(N)})\\\\\n",
    "\\quad \\quad \\quad \\mathbf{X}^T_S \\gets \\mathbf{S} \\mathbf{X}^T_{(n)}\\\\\n",
    "\\quad \\quad \\quad \\mathbf{A}^{(n)} \\gets \\underset{\\mathbf{A}}{\\arg \\min} \\lVert \\mathbf{Z}_S \\mathbf{A}^T - \\mathbf{X}^T_S \\rVert_F\\\\\n",
    "\\quad \\quad \\quad \\text{Normalize columns of } \\mathbf{A}^{(n)} \\text{ and update } \\boldsymbol{\\lambda}\\\\\n",
    "\\quad \\quad \\textbf{end for}\\\\\n",
    "\\quad \\textbf{until convergence}\\\\\n",
    "\\quad \\text{Return } \\boldsymbol{\\lambda}, \\{\\mathbf{A}^{(n)}\\}\\\\\n",
    "$\n"
   ]
  },
  {
   "cell_type": "code",
   "execution_count": null,
   "metadata": {},
   "outputs": [],
   "source": [
    "def cprand(X, rank, max_iter=10, tol=1e-6):\n",
    "    N = X.shape[0]\n",
    "    factors = [np.random.rand(X.shape[i], rank) for i in range(X.ndim)]\n",
    "    \n",
    "    for iter_num in range(max_iter):\n",
    "        for n in range(N):\n",
    "            S = np.random.choice(N, size=rank, replace=False)\n",
    "            Z_S = sampled_khatri_rao(S, factors)\n",
    "            X_S = X[S]\n",
    "            Z_S_inv = np.linalg.pinv(Z_S)\n",
    "            factors[n] = np.dot(X_S, Z_S_inv)\n",
    "        if iter_num % 10 == 0:\n",
    "            print(f'iter {iter_num}: {np.linalg.norm(X - khatri_rao_product(*factors))}')\n"
   ]
  }
 ],
 "metadata": {
  "kernelspec": {
   "display_name": "Python 3",
   "language": "python",
   "name": "python3"
  },
  "language_info": {
   "codemirror_mode": {
    "name": "ipython",
    "version": 3
   },
   "file_extension": ".py",
   "mimetype": "text/x-python",
   "name": "python",
   "nbconvert_exporter": "python",
   "pygments_lexer": "ipython3",
   "version": "3.9.12"
  },
  "orig_nbformat": 4
 },
 "nbformat": 4,
 "nbformat_minor": 2
}
