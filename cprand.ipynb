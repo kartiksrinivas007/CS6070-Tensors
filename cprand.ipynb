{
 "cells": [
  {
   "cell_type": "code",
   "execution_count": 1,
   "metadata": {},
   "outputs": [],
   "source": [
    "import numpy as np\n",
    "import matplotlib.pyplot as plt\n",
    "from tensor.operation.kruskal import kruskal\n",
    "from tensor.operation.khatri_rao import khatri_rao\n",
    "from tensor.operation.matricize import matricize\n",
    "from tensor.operation.sampled_khatri_rao_prod import sampled_khatri_rao2"
   ]
  },
  {
   "attachments": {},
   "cell_type": "markdown",
   "metadata": {},
   "source": [
    "Algorithm: CP RAND\n",
    "\n",
    "$\\text{Input:}$ $\\mathcal{X} \\in \\mathbb{R}^{I_1 \\times \\cdots \\times I_N}$, $\\mathbf{R}$, $\\mathbf{S}$\n",
    "\n",
    "$\\text{Output:}$ $\\boldsymbol{\\lambda}$, $\\{\\mathbf{A}^{(n)}\\}$\n",
    "\n",
    "$\n",
    "\\textbf{CPRAND} (\\mathcal{X}, \\mathbf{R}, \\mathbf{S}):\\\\\n",
    "\\quad \\text{Initialize factor matrices } \\mathbf{A}^{(2)}, \\dots, \\mathbf{A}^{(N)}\\\\\n",
    "\\quad \\textbf{repeat}:\\\\\n",
    "\\quad \\quad \\text{for } n = 1, \\dots, N \\text{ do}:\\\\\n",
    "\\quad \\quad \\quad \\text{Define sampling operator} \\mathbf{S} \\in \\mathbb{R}^{S \\times \\prod_{m \\neq n} I_m}\\\\\n",
    "\\quad \\quad \\quad \\mathbf{Z}_S \\gets \\text{SKR}(\\mathbf{S}, \\mathbf{A}^{(1)}, \\dots, \\mathbf{A}^{(n-1)}, \\mathbf{A}^{(n+1)}, \\dots, \\mathbf{A}^{(N)})\\\\\n",
    "\\quad \\quad \\quad \\mathbf{X}^T_S \\gets \\mathbf{S} \\mathbf{X}^T_{(n)}\\\\\n",
    "\\quad \\quad \\quad \\mathbf{A}^{(n)} \\gets \\underset{\\mathbf{A}}{\\arg \\min} \\lVert \\mathbf{Z}_S \\mathbf{A}^T - \\mathbf{X}^T_S \\rVert_F\\\\\n",
    "\\quad \\quad \\quad \\text{Normalize columns of } \\mathbf{A}^{(n)} \\text{ and update } \\boldsymbol{\\lambda}\\\\\n",
    "\\quad \\quad \\textbf{end for}\\\\\n",
    "\\quad \\textbf{until convergence}\\\\\n",
    "\\quad \\text{Return } \\boldsymbol{\\lambda}, \\{\\mathbf{A}^{(n)}\\}\\\\\n",
    "$\n"
   ]
  },
  {
   "cell_type": "code",
   "execution_count": 2,
   "metadata": {},
   "outputs": [],
   "source": [
    "def cprand(X, rank, max_iter=10, tol=1e-6):\n",
    "    N = X.shape[0]\n",
    "    factors = [np.random.rand(X.shape[i], rank) for i in range(X.ndim)]\n",
    "    \n",
    "    for iter_num in range(max_iter):\n",
    "        for n in range(N):\n",
    "            S = np.random.choice(N, size=rank, replace=False)\n",
    "            Z_S = sampled_khatri_rao2(factors, S, n, indices_list=None)\n",
    "            X_S = X[S]\n",
    "            Z_S_inv = np.linalg.pinv(Z_S)\n",
    "            factors[n] = np.dot(X_S, Z_S_inv)\n",
    "        if iter_num % 10 == 0:\n",
    "            print(f'iter {iter_num}: {np.linalg.norm(X - khatri_rao(*factors))}')\n",
    "        if np.linalg.norm(X - khatri_rao(*factors)) < tol:\n",
    "            break\n",
    "    return factors\n"
   ]
  },
  {
   "cell_type": "code",
   "execution_count": 4,
   "metadata": {},
   "outputs": [
    {
     "ename": "TypeError",
     "evalue": "only integer scalar arrays can be converted to a scalar index",
     "output_type": "error",
     "traceback": [
      "\u001b[1;31m---------------------------------------------------------------------------\u001b[0m",
      "\u001b[1;31mTypeError\u001b[0m                                 Traceback (most recent call last)",
      "\u001b[1;32mc:\\Users\\sumit\\Desktop\\Courses IIT\\Sem 6\\Tensor Techniques, Algorithms and Applications\\Project\\CS6070-Tensors\\cprand.ipynb Cell 4\u001b[0m in \u001b[0;36m3\n\u001b[0;32m      <a href='vscode-notebook-cell:/c%3A/Users/sumit/Desktop/Courses%20IIT/Sem%206/Tensor%20Techniques%2C%20Algorithms%20and%20Applications/Project/CS6070-Tensors/cprand.ipynb#W3sZmlsZQ%3D%3D?line=0'>1</a>\u001b[0m X \u001b[39m=\u001b[39m np\u001b[39m.\u001b[39mrandom\u001b[39m.\u001b[39mrand(\u001b[39m10\u001b[39m, \u001b[39m10\u001b[39m, \u001b[39m10\u001b[39m)\n\u001b[0;32m      <a href='vscode-notebook-cell:/c%3A/Users/sumit/Desktop/Courses%20IIT/Sem%206/Tensor%20Techniques%2C%20Algorithms%20and%20Applications/Project/CS6070-Tensors/cprand.ipynb#W3sZmlsZQ%3D%3D?line=1'>2</a>\u001b[0m rank \u001b[39m=\u001b[39m \u001b[39m10\u001b[39m\n\u001b[1;32m----> <a href='vscode-notebook-cell:/c%3A/Users/sumit/Desktop/Courses%20IIT/Sem%206/Tensor%20Techniques%2C%20Algorithms%20and%20Applications/Project/CS6070-Tensors/cprand.ipynb#W3sZmlsZQ%3D%3D?line=2'>3</a>\u001b[0m factors \u001b[39m=\u001b[39m cprand(X, rank)\n\u001b[0;32m      <a href='vscode-notebook-cell:/c%3A/Users/sumit/Desktop/Courses%20IIT/Sem%206/Tensor%20Techniques%2C%20Algorithms%20and%20Applications/Project/CS6070-Tensors/cprand.ipynb#W3sZmlsZQ%3D%3D?line=3'>4</a>\u001b[0m \u001b[39mprint\u001b[39m(factors[\u001b[39m0\u001b[39m]\u001b[39m.\u001b[39mshape, factors[\u001b[39m1\u001b[39m]\u001b[39m.\u001b[39mshape, factors[\u001b[39m2\u001b[39m]\u001b[39m.\u001b[39mshape)\n\u001b[0;32m      <a href='vscode-notebook-cell:/c%3A/Users/sumit/Desktop/Courses%20IIT/Sem%206/Tensor%20Techniques%2C%20Algorithms%20and%20Applications/Project/CS6070-Tensors/cprand.ipynb#W3sZmlsZQ%3D%3D?line=4'>5</a>\u001b[0m \u001b[39mprint\u001b[39m(np\u001b[39m.\u001b[39mlinalg\u001b[39m.\u001b[39mnorm(X \u001b[39m-\u001b[39m khatri_rao\u001b[39m.\u001b[39mkhatri_rao(\u001b[39m*\u001b[39mfactors)))\n",
      "\u001b[1;32mc:\\Users\\sumit\\Desktop\\Courses IIT\\Sem 6\\Tensor Techniques, Algorithms and Applications\\Project\\CS6070-Tensors\\cprand.ipynb Cell 4\u001b[0m in \u001b[0;36m8\n\u001b[0;32m      <a href='vscode-notebook-cell:/c%3A/Users/sumit/Desktop/Courses%20IIT/Sem%206/Tensor%20Techniques%2C%20Algorithms%20and%20Applications/Project/CS6070-Tensors/cprand.ipynb#W3sZmlsZQ%3D%3D?line=5'>6</a>\u001b[0m \u001b[39mfor\u001b[39;00m n \u001b[39min\u001b[39;00m \u001b[39mrange\u001b[39m(N):\n\u001b[0;32m      <a href='vscode-notebook-cell:/c%3A/Users/sumit/Desktop/Courses%20IIT/Sem%206/Tensor%20Techniques%2C%20Algorithms%20and%20Applications/Project/CS6070-Tensors/cprand.ipynb#W3sZmlsZQ%3D%3D?line=6'>7</a>\u001b[0m     S \u001b[39m=\u001b[39m np\u001b[39m.\u001b[39mrandom\u001b[39m.\u001b[39mchoice(N, size\u001b[39m=\u001b[39mrank, replace\u001b[39m=\u001b[39m\u001b[39mFalse\u001b[39;00m)\n\u001b[1;32m----> <a href='vscode-notebook-cell:/c%3A/Users/sumit/Desktop/Courses%20IIT/Sem%206/Tensor%20Techniques%2C%20Algorithms%20and%20Applications/Project/CS6070-Tensors/cprand.ipynb#W3sZmlsZQ%3D%3D?line=7'>8</a>\u001b[0m     Z_S \u001b[39m=\u001b[39m sampled_khatri_rao2(factors, S, n, indices_list\u001b[39m=\u001b[39;49m\u001b[39mNone\u001b[39;49;00m)\n\u001b[0;32m      <a href='vscode-notebook-cell:/c%3A/Users/sumit/Desktop/Courses%20IIT/Sem%206/Tensor%20Techniques%2C%20Algorithms%20and%20Applications/Project/CS6070-Tensors/cprand.ipynb#W3sZmlsZQ%3D%3D?line=8'>9</a>\u001b[0m     X_S \u001b[39m=\u001b[39m X[S]\n\u001b[0;32m     <a href='vscode-notebook-cell:/c%3A/Users/sumit/Desktop/Courses%20IIT/Sem%206/Tensor%20Techniques%2C%20Algorithms%20and%20Applications/Project/CS6070-Tensors/cprand.ipynb#W3sZmlsZQ%3D%3D?line=9'>10</a>\u001b[0m     Z_S_inv \u001b[39m=\u001b[39m np\u001b[39m.\u001b[39mlinalg\u001b[39m.\u001b[39mpinv(Z_S)\n",
      "File \u001b[1;32mc:\\Users\\sumit\\Desktop\\Courses IIT\\Sem 6\\Tensor Techniques, Algorithms and Applications\\Project\\CS6070-Tensors\\tensor\\operation\\sampled_khatri_rao_prod.py:41\u001b[0m, in \u001b[0;36msampled_khatri_rao2\u001b[1;34m(factor_mat, n_samples, skip_mat_index, indices_list)\u001b[0m\n\u001b[0;32m     37\u001b[0m     indices_list \u001b[39m=\u001b[39m [np\u001b[39m.\u001b[39mrandom\u001b[39m.\u001b[39mchoice(factor_mat\u001b[39m.\u001b[39mshape[\u001b[39m0\u001b[39m], n_samples) \u001b[39mfor\u001b[39;00m _ \u001b[39min\u001b[39;00m \u001b[39mrange\u001b[39m(factor_mat\u001b[39m.\u001b[39mshape[\u001b[39m0\u001b[39m])]\n\u001b[0;32m     39\u001b[0m rank \u001b[39m=\u001b[39m factor_mat\u001b[39m.\u001b[39mshape[\u001b[39m1\u001b[39m]\n\u001b[1;32m---> 41\u001b[0m sampled_khatri_rao_mat \u001b[39m=\u001b[39m np\u001b[39m.\u001b[39;49mones((n_samples, rank))\n\u001b[0;32m     42\u001b[0m \u001b[39mfor\u001b[39;00m index, matrix \u001b[39min\u001b[39;00m \u001b[39mzip\u001b[39m(indices_list, factor_mat):\n\u001b[0;32m     43\u001b[0m     sampled_khatri_rao_mat \u001b[39m=\u001b[39m np\u001b[39m.\u001b[39mmultiply(sampled_khatri_rao_mat, matrix[index, :])\n",
      "File \u001b[1;32mc:\\Users\\sumit\\AppData\\Local\\Programs\\Python\\Python39\\lib\\site-packages\\numpy\\core\\numeric.py:204\u001b[0m, in \u001b[0;36mones\u001b[1;34m(shape, dtype, order, like)\u001b[0m\n\u001b[0;32m    201\u001b[0m \u001b[39mif\u001b[39;00m like \u001b[39mis\u001b[39;00m \u001b[39mnot\u001b[39;00m \u001b[39mNone\u001b[39;00m:\n\u001b[0;32m    202\u001b[0m     \u001b[39mreturn\u001b[39;00m _ones_with_like(shape, dtype\u001b[39m=\u001b[39mdtype, order\u001b[39m=\u001b[39morder, like\u001b[39m=\u001b[39mlike)\n\u001b[1;32m--> 204\u001b[0m a \u001b[39m=\u001b[39m empty(shape, dtype, order)\n\u001b[0;32m    205\u001b[0m multiarray\u001b[39m.\u001b[39mcopyto(a, \u001b[39m1\u001b[39m, casting\u001b[39m=\u001b[39m\u001b[39m'\u001b[39m\u001b[39munsafe\u001b[39m\u001b[39m'\u001b[39m)\n\u001b[0;32m    206\u001b[0m \u001b[39mreturn\u001b[39;00m a\n",
      "\u001b[1;31mTypeError\u001b[0m: only integer scalar arrays can be converted to a scalar index"
     ]
    }
   ],
   "source": [
    "X = np.random.rand(10, 10, 10)\n",
    "rank = 10\n",
    "factors = cprand(X, rank)\n",
    "print(factors[0].shape, factors[1].shape, factors[2].shape)\n",
    "print(np.linalg.norm(X - khatri_rao.khatri_rao(*factors)))\n"
   ]
  },
  {
   "cell_type": "code",
   "execution_count": null,
   "metadata": {},
   "outputs": [],
   "source": []
  }
 ],
 "metadata": {
  "kernelspec": {
   "display_name": "Python 3",
   "language": "python",
   "name": "python3"
  },
  "language_info": {
   "codemirror_mode": {
    "name": "ipython",
    "version": 3
   },
   "file_extension": ".py",
   "mimetype": "text/x-python",
   "name": "python",
   "nbconvert_exporter": "python",
   "pygments_lexer": "ipython3",
   "version": "3.9.12"
  },
  "orig_nbformat": 4
 },
 "nbformat": 4,
 "nbformat_minor": 2
}
